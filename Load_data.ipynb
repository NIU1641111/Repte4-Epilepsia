{
  "nbformat": 4,
  "nbformat_minor": 0,
  "metadata": {
    "colab": {
      "provenance": []
    },
    "kernelspec": {
      "name": "python3",
      "display_name": "Python 3"
    },
    "language_info": {
      "name": "python"
    }
  },
  "cells": [
    {
      "cell_type": "code",
      "execution_count": 3,
      "metadata": {
        "id": "2WSlMpj4m0k8",
        "colab": {
          "base_uri": "https://localhost:8080/",
          "height": 356
        },
        "outputId": "0a10e32f-d63a-4395-87ce-a353265c4380"
      },
      "outputs": [
        {
          "output_type": "error",
          "ename": "BadZipFile",
          "evalue": "File is not a zip file",
          "traceback": [
            "\u001b[0;31m---------------------------------------------------------------------------\u001b[0m",
            "\u001b[0;31mBadZipFile\u001b[0m                                Traceback (most recent call last)",
            "\u001b[0;32m<ipython-input-3-eb6bdff1249b>\u001b[0m in \u001b[0;36m<cell line: 5>\u001b[0;34m()\u001b[0m\n\u001b[1;32m      3\u001b[0m \u001b[0;34m\u001b[0m\u001b[0m\n\u001b[1;32m      4\u001b[0m \u001b[0;31m# Carga del archivo .npz\u001b[0m\u001b[0;34m\u001b[0m\u001b[0;34m\u001b[0m\u001b[0m\n\u001b[0;32m----> 5\u001b[0;31m \u001b[0mdata\u001b[0m \u001b[0;34m=\u001b[0m \u001b[0mnp\u001b[0m\u001b[0;34m.\u001b[0m\u001b[0mload\u001b[0m\u001b[0;34m(\u001b[0m\u001b[0;34m\"chb02_seizure_EEGwindow_1.npz\"\u001b[0m\u001b[0;34m)\u001b[0m\u001b[0;34m\u001b[0m\u001b[0;34m\u001b[0m\u001b[0m\n\u001b[0m\u001b[1;32m      6\u001b[0m \u001b[0meeg_data\u001b[0m \u001b[0;34m=\u001b[0m \u001b[0mdata\u001b[0m\u001b[0;34m[\u001b[0m\u001b[0;34m'EEG_win'\u001b[0m\u001b[0;34m]\u001b[0m  \u001b[0;31m# Array de ventanas [num_ventanas, 21, 128]\u001b[0m\u001b[0;34m\u001b[0m\u001b[0;34m\u001b[0m\u001b[0m\n\u001b[1;32m      7\u001b[0m \u001b[0;34m\u001b[0m\u001b[0m\n",
            "\u001b[0;32m/usr/local/lib/python3.10/dist-packages/numpy/lib/npyio.py\u001b[0m in \u001b[0;36mload\u001b[0;34m(file, mmap_mode, allow_pickle, fix_imports, encoding, max_header_size)\u001b[0m\n\u001b[1;32m    442\u001b[0m             \u001b[0;31m# Potentially transfer file ownership to NpzFile\u001b[0m\u001b[0;34m\u001b[0m\u001b[0;34m\u001b[0m\u001b[0m\n\u001b[1;32m    443\u001b[0m             \u001b[0mstack\u001b[0m\u001b[0;34m.\u001b[0m\u001b[0mpop_all\u001b[0m\u001b[0;34m(\u001b[0m\u001b[0;34m)\u001b[0m\u001b[0;34m\u001b[0m\u001b[0;34m\u001b[0m\u001b[0m\n\u001b[0;32m--> 444\u001b[0;31m             ret = NpzFile(fid, own_fid=own_fid, allow_pickle=allow_pickle,\n\u001b[0m\u001b[1;32m    445\u001b[0m                           \u001b[0mpickle_kwargs\u001b[0m\u001b[0;34m=\u001b[0m\u001b[0mpickle_kwargs\u001b[0m\u001b[0;34m,\u001b[0m\u001b[0;34m\u001b[0m\u001b[0;34m\u001b[0m\u001b[0m\n\u001b[1;32m    446\u001b[0m                           max_header_size=max_header_size)\n",
            "\u001b[0;32m/usr/local/lib/python3.10/dist-packages/numpy/lib/npyio.py\u001b[0m in \u001b[0;36m__init__\u001b[0;34m(self, fid, own_fid, allow_pickle, pickle_kwargs, max_header_size)\u001b[0m\n\u001b[1;32m    188\u001b[0m         \u001b[0;31m# Import is postponed to here since zipfile depends on gzip, an\u001b[0m\u001b[0;34m\u001b[0m\u001b[0;34m\u001b[0m\u001b[0m\n\u001b[1;32m    189\u001b[0m         \u001b[0;31m# optional component of the so-called standard library.\u001b[0m\u001b[0;34m\u001b[0m\u001b[0;34m\u001b[0m\u001b[0m\n\u001b[0;32m--> 190\u001b[0;31m         \u001b[0m_zip\u001b[0m \u001b[0;34m=\u001b[0m \u001b[0mzipfile_factory\u001b[0m\u001b[0;34m(\u001b[0m\u001b[0mfid\u001b[0m\u001b[0;34m)\u001b[0m\u001b[0;34m\u001b[0m\u001b[0;34m\u001b[0m\u001b[0m\n\u001b[0m\u001b[1;32m    191\u001b[0m         \u001b[0mself\u001b[0m\u001b[0;34m.\u001b[0m\u001b[0m_files\u001b[0m \u001b[0;34m=\u001b[0m \u001b[0m_zip\u001b[0m\u001b[0;34m.\u001b[0m\u001b[0mnamelist\u001b[0m\u001b[0;34m(\u001b[0m\u001b[0;34m)\u001b[0m\u001b[0;34m\u001b[0m\u001b[0;34m\u001b[0m\u001b[0m\n\u001b[1;32m    192\u001b[0m         \u001b[0mself\u001b[0m\u001b[0;34m.\u001b[0m\u001b[0mfiles\u001b[0m \u001b[0;34m=\u001b[0m \u001b[0;34m[\u001b[0m\u001b[0;34m]\u001b[0m\u001b[0;34m\u001b[0m\u001b[0;34m\u001b[0m\u001b[0m\n",
            "\u001b[0;32m/usr/local/lib/python3.10/dist-packages/numpy/lib/npyio.py\u001b[0m in \u001b[0;36mzipfile_factory\u001b[0;34m(file, *args, **kwargs)\u001b[0m\n\u001b[1;32m    101\u001b[0m     \u001b[0;32mimport\u001b[0m \u001b[0mzipfile\u001b[0m\u001b[0;34m\u001b[0m\u001b[0;34m\u001b[0m\u001b[0m\n\u001b[1;32m    102\u001b[0m     \u001b[0mkwargs\u001b[0m\u001b[0;34m[\u001b[0m\u001b[0;34m'allowZip64'\u001b[0m\u001b[0;34m]\u001b[0m \u001b[0;34m=\u001b[0m \u001b[0;32mTrue\u001b[0m\u001b[0;34m\u001b[0m\u001b[0;34m\u001b[0m\u001b[0m\n\u001b[0;32m--> 103\u001b[0;31m     \u001b[0;32mreturn\u001b[0m \u001b[0mzipfile\u001b[0m\u001b[0;34m.\u001b[0m\u001b[0mZipFile\u001b[0m\u001b[0;34m(\u001b[0m\u001b[0mfile\u001b[0m\u001b[0;34m,\u001b[0m \u001b[0;34m*\u001b[0m\u001b[0margs\u001b[0m\u001b[0;34m,\u001b[0m \u001b[0;34m**\u001b[0m\u001b[0mkwargs\u001b[0m\u001b[0;34m)\u001b[0m\u001b[0;34m\u001b[0m\u001b[0;34m\u001b[0m\u001b[0m\n\u001b[0m\u001b[1;32m    104\u001b[0m \u001b[0;34m\u001b[0m\u001b[0m\n\u001b[1;32m    105\u001b[0m \u001b[0;34m\u001b[0m\u001b[0m\n",
            "\u001b[0;32m/usr/lib/python3.10/zipfile.py\u001b[0m in \u001b[0;36m__init__\u001b[0;34m(self, file, mode, compression, allowZip64, compresslevel, strict_timestamps)\u001b[0m\n\u001b[1;32m   1270\u001b[0m         \u001b[0;32mtry\u001b[0m\u001b[0;34m:\u001b[0m\u001b[0;34m\u001b[0m\u001b[0;34m\u001b[0m\u001b[0m\n\u001b[1;32m   1271\u001b[0m             \u001b[0;32mif\u001b[0m \u001b[0mmode\u001b[0m \u001b[0;34m==\u001b[0m \u001b[0;34m'r'\u001b[0m\u001b[0;34m:\u001b[0m\u001b[0;34m\u001b[0m\u001b[0;34m\u001b[0m\u001b[0m\n\u001b[0;32m-> 1272\u001b[0;31m                 \u001b[0mself\u001b[0m\u001b[0;34m.\u001b[0m\u001b[0m_RealGetContents\u001b[0m\u001b[0;34m(\u001b[0m\u001b[0;34m)\u001b[0m\u001b[0;34m\u001b[0m\u001b[0;34m\u001b[0m\u001b[0m\n\u001b[0m\u001b[1;32m   1273\u001b[0m             \u001b[0;32melif\u001b[0m \u001b[0mmode\u001b[0m \u001b[0;32min\u001b[0m \u001b[0;34m(\u001b[0m\u001b[0;34m'w'\u001b[0m\u001b[0;34m,\u001b[0m \u001b[0;34m'x'\u001b[0m\u001b[0;34m)\u001b[0m\u001b[0;34m:\u001b[0m\u001b[0;34m\u001b[0m\u001b[0;34m\u001b[0m\u001b[0m\n\u001b[1;32m   1274\u001b[0m                 \u001b[0;31m# set the modified flag so central directory gets written\u001b[0m\u001b[0;34m\u001b[0m\u001b[0;34m\u001b[0m\u001b[0m\n",
            "\u001b[0;32m/usr/lib/python3.10/zipfile.py\u001b[0m in \u001b[0;36m_RealGetContents\u001b[0;34m(self)\u001b[0m\n\u001b[1;32m   1337\u001b[0m             \u001b[0;32mraise\u001b[0m \u001b[0mBadZipFile\u001b[0m\u001b[0;34m(\u001b[0m\u001b[0;34m\"File is not a zip file\"\u001b[0m\u001b[0;34m)\u001b[0m\u001b[0;34m\u001b[0m\u001b[0;34m\u001b[0m\u001b[0m\n\u001b[1;32m   1338\u001b[0m         \u001b[0;32mif\u001b[0m \u001b[0;32mnot\u001b[0m \u001b[0mendrec\u001b[0m\u001b[0;34m:\u001b[0m\u001b[0;34m\u001b[0m\u001b[0;34m\u001b[0m\u001b[0m\n\u001b[0;32m-> 1339\u001b[0;31m             \u001b[0;32mraise\u001b[0m \u001b[0mBadZipFile\u001b[0m\u001b[0;34m(\u001b[0m\u001b[0;34m\"File is not a zip file\"\u001b[0m\u001b[0;34m)\u001b[0m\u001b[0;34m\u001b[0m\u001b[0;34m\u001b[0m\u001b[0m\n\u001b[0m\u001b[1;32m   1340\u001b[0m         \u001b[0;32mif\u001b[0m \u001b[0mself\u001b[0m\u001b[0;34m.\u001b[0m\u001b[0mdebug\u001b[0m \u001b[0;34m>\u001b[0m \u001b[0;36m1\u001b[0m\u001b[0;34m:\u001b[0m\u001b[0;34m\u001b[0m\u001b[0;34m\u001b[0m\u001b[0m\n\u001b[1;32m   1341\u001b[0m             \u001b[0mprint\u001b[0m\u001b[0;34m(\u001b[0m\u001b[0mendrec\u001b[0m\u001b[0;34m)\u001b[0m\u001b[0;34m\u001b[0m\u001b[0;34m\u001b[0m\u001b[0m\n",
            "\u001b[0;31mBadZipFile\u001b[0m: File is not a zip file"
          ]
        }
      ],
      "source": [
        "import numpy as np\n",
        "import pandas as pd\n",
        "\n",
        "# Carga del archivo .npz\n",
        "data = np.load(\"chb02_seizure_EEGwindow_1.npz\")\n",
        "eeg_data = data['EEG_win']  # Array de ventanas [num_ventanas, 21, 128]\n",
        "\n",
        "# Carga de metadatos\n",
        "metadata = pd.read_parquet(\"chb02_seizure_metadata_1.parquet\")\n",
        "\n",
        "# Exploración inicial\n",
        "print(f\"Shape de EEG data: {eeg_data.shape}\")\n",
        "print(\"Metadatos:\")\n",
        "print(metadata.head())\n",
        "\n",
        "\n",
        "# Dividir ventanas según la clase\n",
        "seizure_windows = eeg_data[metadata['class'] == 1]\n",
        "non_seizure_windows = eeg_data[metadata['class'] == 0]\n",
        "\n",
        "print(f\"Ventanas con crisis: {len(seizure_windows)}\")\n",
        "print(f\"Ventanas sin crisis: {len(non_seizure_windows)}\")\n",
        "\n",
        "\n",
        "\n",
        "import matplotlib.pyplot as plt\n",
        "\n",
        "# Visualizar un canal específico de una ventana\n",
        "window_idx = 0\n",
        "channel_idx = 0  # Cambia para explorar diferentes canales\n",
        "\n",
        "plt.plot(eeg_data[window_idx, channel_idx, :])\n",
        "plt.title(f\"Ventana {window_idx}, Canal {channel_idx}\")\n",
        "plt.xlabel(\"Muestras\")\n",
        "plt.ylabel(\"Amplitud\")\n",
        "plt.show()\n"
      ]
    },
    {
      "cell_type": "markdown",
      "source": [
        "# **OTRA FORMA**"
      ],
      "metadata": {
        "id": "knkagB9ctoFC"
      }
    },
    {
      "cell_type": "code",
      "source": [
        "import os\n",
        "import numpy as np\n",
        "import pandas as pd\n",
        "\n",
        "def load_eeg_data(folder_path, metadata_path, patient_list=[], sample_size=-1, include_seizures=True, prints=False):\n",
        "    \"\"\"\n",
        "    Carga los datos de EEG de archivos .npz y metadatos en formato parquet.\n",
        "\n",
        "    Args:\n",
        "        folder_path (str): Ruta de la carpeta con archivos .npz.\n",
        "        metadata_path (str): Ruta del archivo parquet con los metadatos.\n",
        "        patient_list (list, optional): IDs de los pacientes a incluir. Si está vacío, carga todos.\n",
        "        sample_size (int, optional): Número máximo de ventanas por paciente. -1 para cargar todas.\n",
        "        include_seizures (bool, optional): True para incluir ventanas con crisis, False para excluirlas.\n",
        "        prints (bool, optional): Si True, imprime progreso.\n",
        "\n",
        "    Returns:\n",
        "        tuple:\n",
        "            - eeg_data (list): Lista de arrays con señales EEG.\n",
        "            - labels (list): Lista de etiquetas binarias (0: no crisis, 1: crisis).\n",
        "            - patient_ids (list): IDs de pacientes correspondientes a cada ventana.\n",
        "    \"\"\"\n",
        "    # Cargar metadatos\n",
        "    metadata = pd.read_parquet(metadata_path)\n",
        "\n",
        "    eeg_data = []\n",
        "    labels = []\n",
        "    patient_ids = []\n",
        "    incorrect_shape = 0\n",
        "\n",
        "    # Si no se proporciona una lista de pacientes, incluir todos los pacientes del metadata\n",
        "    if not patient_list:\n",
        "        patient_list = metadata['filename'].apply(lambda x: x.split(\"_\")[0]).unique().tolist()\n",
        "\n",
        "    # Iterar sobre cada paciente en la lista\n",
        "    for i, patient_id in enumerate(patient_list):\n",
        "        # Seleccionar las filas correspondientes al paciente\n",
        "        patient_metadata = metadata[metadata['filename'].str.startswith(patient_id)]\n",
        "\n",
        "        # Obtener los archivos .npz correspondientes al paciente\n",
        "        npz_files = [f for f in os.listdir(folder_path) if f.startswith(patient_id) and f.endswith(\".npz\")]\n",
        "\n",
        "        if prints:\n",
        "            print(f\"Cargando paciente {i+1}/{len(patient_list)}: {patient_id}\")\n",
        "\n",
        "        for npz_file in npz_files:\n",
        "            file_path = os.path.join(folder_path, npz_file)\n",
        "\n",
        "            # Cargar datos del archivo .npz\n",
        "            data = np.load(file_path)\n",
        "            windows = data['EEG_win']  # Array [num_ventanas, 21, 128]\n",
        "\n",
        "            # Filtrar metadatos del archivo específico\n",
        "            file_metadata = patient_metadata[patient_metadata['filename'] == npz_file.replace(\".npz\", \"\")]\n",
        "\n",
        "            # Filtrar ventanas según presencia de crisis\n",
        "            if include_seizures:\n",
        "                selected_rows = file_metadata[file_metadata['class'] == 1]\n",
        "            else:\n",
        "                selected_rows = file_metadata[file_metadata['class'] == 0]\n",
        "\n",
        "            selected_indices = selected_rows.index.tolist()\n",
        "\n",
        "            # Aplicar muestreo si es necesario\n",
        "            if sample_size > 0 and len(selected_indices) > sample_size:\n",
        "                selected_indices = np.random.choice(selected_indices, sample_size, replace=False)\n",
        "\n",
        "            # Añadir ventanas y etiquetas\n",
        "            for idx in selected_indices:\n",
        "                eeg_data.append(windows[idx])\n",
        "                labels.append(file_metadata.loc[idx, 'class'])\n",
        "                patient_ids.append(patient_id)\n",
        "\n",
        "    print(f'Resize necesario en {incorrect_shape} ventanas.')\n",
        "    return eeg_data, labels, patient_ids\n"
      ],
      "metadata": {
        "id": "Sn-soCK0r0RK"
      },
      "execution_count": null,
      "outputs": []
    },
    {
      "cell_type": "code",
      "source": [
        "folder_path = \"ruta_a_datos_npz\"\n",
        "metadata_path = \"ruta_a_metadatos.parquet\"\n",
        "\n",
        "# Cargar datos EEG\n",
        "eeg_data, labels, patient_ids = load_eeg_data(\n",
        "    folder_path=folder_path,\n",
        "    metadata_path=metadata_path,\n",
        "    patient_list=[],  # Cargar todos los pacientes\n",
        "    sample_size=200,  # Cargar un máximo de 200 ventanas por paciente\n",
        "    include_seizures=True,  # Incluir solo ventanas con crisis\n",
        "    prints=True\n",
        ")\n",
        "\n",
        "# Verificar datos cargados\n",
        "print(f\"Ventanas cargadas: {len(eeg_data)}\")\n",
        "print(f\"Etiquetas (crisis): {sum(labels)} de {len(labels)}\")\n"
      ],
      "metadata": {
        "id": "3jZFQegYt4uG"
      },
      "execution_count": null,
      "outputs": []
    }
  ]
}